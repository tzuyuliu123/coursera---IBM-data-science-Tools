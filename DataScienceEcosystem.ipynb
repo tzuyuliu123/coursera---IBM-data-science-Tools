{
 "cells": [
  {
   "cell_type": "markdown",
   "id": "6a890295",
   "metadata": {},
   "source": [
    "# Data Science Tools and Ecosystem"
   ]
  },
  {
   "cell_type": "markdown",
   "id": "7e17852d",
   "metadata": {},
   "source": [
    "In this notebook, Data science Tools and Ecosystem are summarized. \n",
    "\n",
    "**Objectives:**\n",
    "- Learn how to use Jupyter Notebook and how to upload the files on Github.\n",
    "- Understand the languages that data scienits used\n",
    "- simple examples of evaluating arithmetic expressions in Python"
   ]
  },
  {
   "cell_type": "markdown",
   "id": "b63e98fa",
   "metadata": {},
   "source": [
    "some of the popular languages that Data Scientists use are:\n",
    "* Python\n",
    "* R lanauage\n",
    "* SQL"
   ]
  },
  {
   "cell_type": "markdown",
   "id": "9edf25cf",
   "metadata": {},
   "source": [
    "| Data science Tools | \n",
    "| -------------------|\n",
    "| Jupyter Notebook   |\n",
    "| Rstudio            |\n",
    "| Apache Zeppelin    |"
   ]
  },
  {
   "cell_type": "markdown",
   "id": "7fea08a8",
   "metadata": {},
   "source": [
    "### Below are a few examples of evaluating arithmetic expressions in Python\n"
   ]
  },
  {
   "cell_type": "code",
   "execution_count": 1,
   "id": "d771c420",
   "metadata": {},
   "outputs": [
    {
     "data": {
      "text/plain": [
       "17"
      ]
     },
     "execution_count": 1,
     "metadata": {},
     "output_type": "execute_result"
    }
   ],
   "source": [
    "# This is a simple aritmetic expressions to multiply add integers. \n",
    "(3*4)+5"
   ]
  },
  {
   "cell_type": "code",
   "execution_count": 5,
   "id": "2a53bd01",
   "metadata": {},
   "outputs": [
    {
     "name": "stdout",
     "output_type": "stream",
     "text": [
      "200 mins is about 3.3333333333333335 hours\n"
     ]
    }
   ],
   "source": [
    "#This will convert 200 minutes to hours by diving by 60/ \\\n",
    "result = 200/ 60\n",
    "print('200 mins is about',result,'hours')"
   ]
  },
  {
   "cell_type": "markdown",
   "id": "8a8c293e",
   "metadata": {},
   "source": [
    "## Author\n",
    "Tzu-Yu, Liu (Jenny)"
   ]
  },
  {
   "cell_type": "code",
   "execution_count": null,
   "id": "a1c8910a",
   "metadata": {},
   "outputs": [],
   "source": []
  }
 ],
 "metadata": {
  "kernelspec": {
   "display_name": "Python 3 (ipykernel)",
   "language": "python",
   "name": "python3"
  },
  "language_info": {
   "codemirror_mode": {
    "name": "ipython",
    "version": 3
   },
   "file_extension": ".py",
   "mimetype": "text/x-python",
   "name": "python",
   "nbconvert_exporter": "python",
   "pygments_lexer": "ipython3",
   "version": "3.9.13"
  }
 },
 "nbformat": 4,
 "nbformat_minor": 5
}
