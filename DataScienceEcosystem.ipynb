{
 "cells": [
  {
   "cell_type": "markdown",
   "id": "c79fb682",
   "metadata": {},
   "source": [
    "# Data Science Tools and Ecosystem"
   ]
  },
  {
   "cell_type": "markdown",
   "id": "c5c408e6",
   "metadata": {},
   "source": [
    "In this notebook, Data science Tools and Ecosystem are summarized. "
   ]
  },
  {
   "cell_type": "markdown",
   "id": "e270af84",
   "metadata": {},
   "source": [
    "**Objectives:**\n",
    "- Learn how to use Jupyter Notebook and how to upload the files on Github.\n",
    "- Understand the languages that data scienits used\n",
    "- simple examples of evaluating arithmetic expressions in Python"
   ]
  },
  {
   "cell_type": "markdown",
   "id": "707c12e4",
   "metadata": {},
   "source": [
    "some of the popular languages that Data Scientists use are:\n",
    "* Python\n",
    "* R lanauage\n",
    "* SQL"
   ]
  },
  {
   "cell_type": "markdown",
   "id": "4b34f738",
   "metadata": {},
   "source": [
    "| Data science Tools | \n",
    "| -------------------|\n",
    "| Jupyter Notebook   |\n",
    "| Rstudio            |\n",
    "| Apache Zeppelin    |"
   ]
  },
  {
   "cell_type": "markdown",
   "id": "f09658f4",
   "metadata": {},
   "source": [
    "### Below are a few examples of evaluating arithmetic expressions in Python\n"
   ]
  },
  {
   "cell_type": "code",
   "execution_count": 6,
   "id": "2ffd5b09",
   "metadata": {},
   "outputs": [
    {
     "data": {
      "text/plain": [
       "17"
      ]
     },
     "execution_count": 6,
     "metadata": {},
     "output_type": "execute_result"
    }
   ],
   "source": [
    "# This is a simple aritmetic expressions to multiply add integers. \n",
    "(3*4)+5"
   ]
  },
  {
   "cell_type": "code",
   "execution_count": 8,
   "id": "4075b9c6",
   "metadata": {},
   "outputs": [
    {
     "name": "stdout",
     "output_type": "stream",
     "text": [
      "200 mins is about 3.3333333333333335 hours\n"
     ]
    }
   ],
   "source": [
    "#This will convert 200 minutes to hours by diving by 60\n",
    "result = 200/ 60\n",
    "print('200 mins is about',result,'hours')"
   ]
  },
  {
   "cell_type": "markdown",
   "id": "f40735d5",
   "metadata": {},
   "source": [
    "## Author\n",
    "Tzu-Yu, Liu (Jenny)"
   ]
  }
 ],
 "metadata": {
  "kernelspec": {
   "display_name": "Python 3 (ipykernel)",
   "language": "python",
   "name": "python3"
  },
  "language_info": {
   "codemirror_mode": {
    "name": "ipython",
    "version": 3
   },
   "file_extension": ".py",
   "mimetype": "text/x-python",
   "name": "python",
   "nbconvert_exporter": "python",
   "pygments_lexer": "ipython3",
   "version": "3.9.13"
  }
 },
 "nbformat": 4,
 "nbformat_minor": 5
}
